{
 "cells": [
  {
   "cell_type": "markdown",
   "metadata": {
    "collapsed": false,
    "jupyter": {
     "outputs_hidden": false
    }
   },
   "source": [
    "# Elasticsearchを利用したサンプル検索\n",
    "\n",
    "Elasticsearchを利用した検索などを試すためのノートブックです。"
   ]
  },
  {
   "cell_type": "markdown",
   "metadata": {
    "collapsed": false,
    "jupyter": {
     "outputs_hidden": false
    }
   },
   "source": [
    "## 接続先の設定\n",
    "\n",
    "**ESHOST**に接続先を設定します。サンプルでは、ローカルネットワーク環境にあるElasticsearchに接続しています。\n",
    "接続先の各種設定については公式ドキュメントをご覧ください。\n",
    "https://www.elastic.co/guide/en/elasticsearch/client/python-api/current/connecting.html\n",
    "\n",
    "**INDEX**が接続先のインデックス名です。"
   ]
  },
  {
   "cell_type": "code",
   "execution_count": 4,
   "metadata": {
    "collapsed": false,
    "is_executing": true,
    "jupyter": {
     "outputs_hidden": false
    }
   },
   "outputs": [],
   "source": [
    "from elasticsearch import Elasticsearch\n",
    "import json\n",
    "\n",
    "ESHOST = \"http://192.168.1.240:9200\"\n",
    "INDEX = \"esci-raw-data\"\n",
    "\n",
    "esclient = Elasticsearch(ESHOST)"
   ]
  },
  {
   "cell_type": "markdown",
   "metadata": {
    "collapsed": false,
    "jupyter": {
     "outputs_hidden": false
    }
   },
   "source": [
    "## スキーマの確認\n",
    "\n",
    "対象となるインデックスのスキーマを確認します。"
   ]
  },
  {
   "cell_type": "code",
   "execution_count": 11,
   "metadata": {
    "collapsed": false,
    "is_executing": true,
    "jupyter": {
     "outputs_hidden": false
    },
    "scrolled": true
   },
   "outputs": [
    {
     "name": "stdout",
     "output_type": "stream",
     "text": [
      "{\n",
      "  \"esci-raw-data\": {\n",
      "    \"aliases\": {},\n",
      "    \"mappings\": {\n",
      "      \"properties\": {\n",
      "        \"product_brand\": {\n",
      "          \"type\": \"keyword\",\n",
      "          \"ignore_above\": 256\n",
      "        },\n",
      "        \"product_bullet_point\": {\n",
      "          \"type\": \"keyword\",\n",
      "          \"ignore_above\": 256,\n",
      "          \"fields\": {\n",
      "            \"en\": {\n",
      "              \"type\": \"text\",\n",
      "              \"analyzer\": \"standard\"\n",
      "            },\n",
      "            \"ja\": {\n",
      "              \"type\": \"text\",\n",
      "              \"analyzer\": \"kuromoji\"\n",
      "            }\n",
      "          }\n",
      "        },\n",
      "        \"product_color\": {\n",
      "          \"type\": \"keyword\"\n",
      "        },\n",
      "        \"product_description\": {\n",
      "          \"type\": \"keyword\",\n",
      "          \"ignore_above\": 256,\n",
      "          \"fields\": {\n",
      "            \"en\": {\n",
      "              \"type\": \"text\",\n",
      "              \"analyzer\": \"standard\"\n",
      "            },\n",
      "            \"ja\": {\n",
      "              \"type\": \"text\",\n",
      "              \"analyzer\": \"kuromoji\"\n",
      "            }\n",
      "          }\n",
      "        },\n",
      "        \"product_id\": {\n",
      "          \"type\": \"keyword\"\n",
      "        },\n",
      "        \"product_locale\": {\n",
      "          \"type\": \"keyword\"\n",
      "        },\n",
      "        \"product_title\": {\n",
      "          \"type\": \"keyword\",\n",
      "          \"ignore_above\": 256,\n",
      "          \"fields\": {\n",
      "            \"en\": {\n",
      "              \"type\": \"text\",\n",
      "              \"analyzer\": \"standard\"\n",
      "            },\n",
      "            \"ja\": {\n",
      "              \"type\": \"text\",\n",
      "              \"analyzer\": \"kuromoji\"\n",
      "            }\n",
      "          }\n",
      "        }\n",
      "      }\n",
      "    },\n",
      "    \"settings\": {\n",
      "      \"index\": {\n",
      "        \"routing\": {\n",
      "          \"allocation\": {\n",
      "            \"include\": {\n",
      "              \"_tier_preference\": \"data_content\"\n",
      "            }\n",
      "          }\n",
      "        },\n",
      "        \"number_of_shards\": \"1\",\n",
      "        \"provided_name\": \"esci-raw-data\",\n",
      "        \"creation_date\": \"1686317166495\",\n",
      "        \"number_of_replicas\": \"1\",\n",
      "        \"uuid\": \"V3ruWVEmSSuIn4tbQiIDYw\",\n",
      "        \"version\": {\n",
      "          \"created\": \"8080099\"\n",
      "        }\n",
      "      }\n",
      "    }\n",
      "  }\n",
      "}\n"
     ]
    }
   ],
   "source": [
    "import json\n",
    "response = esclient.indices.get(index=INDEX, pretty=True)\n",
    "print(json.dumps(response.body, indent=2))"
   ]
  },
  {
   "cell_type": "markdown",
   "metadata": {
    "collapsed": false,
    "is_executing": true,
    "jupyter": {
     "outputs_hidden": false
    }
   },
   "source": [
    "## データの確認\n",
    "\n",
    "検索してみる。"
   ]
  },
  {
   "cell_type": "code",
   "execution_count": 14,
   "metadata": {
    "collapsed": false,
    "jupyter": {
     "outputs_hidden": false
    }
   },
   "outputs": [
    {
     "data": {
      "text/html": [
       "<div>\n",
       "<style scoped>\n",
       "    .dataframe tbody tr th:only-of-type {\n",
       "        vertical-align: middle;\n",
       "    }\n",
       "\n",
       "    .dataframe tbody tr th {\n",
       "        vertical-align: top;\n",
       "    }\n",
       "\n",
       "    .dataframe thead th {\n",
       "        text-align: right;\n",
       "    }\n",
       "</style>\n",
       "<table border=\"1\" class=\"dataframe\">\n",
       "  <thead>\n",
       "    <tr style=\"text-align: right;\">\n",
       "      <th></th>\n",
       "      <th>product_brand</th>\n",
       "      <th>product_bullet_point</th>\n",
       "      <th>product_color</th>\n",
       "      <th>product_description</th>\n",
       "      <th>product_id</th>\n",
       "      <th>product_locale</th>\n",
       "      <th>product_title</th>\n",
       "    </tr>\n",
       "  </thead>\n",
       "  <tbody>\n",
       "    <tr>\n",
       "      <th>0</th>\n",
       "      <td>11 Degrees</td>\n",
       "      <td>11 Degrees Negro Playera con logo\\nA estrenar ...</td>\n",
       "      <td>Negro</td>\n",
       "      <td>Esta playera con el logo de la marca Carrier d...</td>\n",
       "      <td>B079VKKJN7</td>\n",
       "      <td>es</td>\n",
       "      <td>11 Degrees de los Hombres Playera con Logo, Ne...</td>\n",
       "    </tr>\n",
       "    <tr>\n",
       "      <th>1</th>\n",
       "      <td>11 Degrees</td>\n",
       "      <td>None</td>\n",
       "      <td>Blanco</td>\n",
       "      <td>None</td>\n",
       "      <td>B079Y9VRKS</td>\n",
       "      <td>es</td>\n",
       "      <td>Camiseta Eleven Degrees Core TS White (M)</td>\n",
       "    </tr>\n",
       "    <tr>\n",
       "      <th>2</th>\n",
       "      <td>11 Degrees</td>\n",
       "      <td>11 Degrees Azul Core Pull Over Hoodie\\nA estre...</td>\n",
       "      <td>Azul</td>\n",
       "      <td>La sudadera con capucha Core Pull Over de 11 G...</td>\n",
       "      <td>B07DP4LM9H</td>\n",
       "      <td>es</td>\n",
       "      <td>11 Degrees de los Hombres Core Pull Over Hoodi...</td>\n",
       "    </tr>\n",
       "    <tr>\n",
       "      <th>3</th>\n",
       "      <td>11 Degrees</td>\n",
       "      <td>None</td>\n",
       "      <td>None</td>\n",
       "      <td>None</td>\n",
       "      <td>B07G37B9HP</td>\n",
       "      <td>es</td>\n",
       "      <td>11 Degrees Poli Panel Track Pant XL Black</td>\n",
       "    </tr>\n",
       "    <tr>\n",
       "      <th>4</th>\n",
       "      <td>11 Degrees</td>\n",
       "      <td>None</td>\n",
       "      <td>Negro (</td>\n",
       "      <td>None</td>\n",
       "      <td>B07LCTGDHY</td>\n",
       "      <td>es</td>\n",
       "      <td>11 Degrees Gorra Trucker Negro OSFA (Talla úni...</td>\n",
       "    </tr>\n",
       "    <tr>\n",
       "      <th>5</th>\n",
       "      <td>11 Degrees</td>\n",
       "      <td>11 Degrees Negro Optum Poly Joggers\\nA estrena...</td>\n",
       "      <td>Negro</td>\n",
       "      <td>Los Optum Poly Joggers de 11 grados vienen con...</td>\n",
       "      <td>B07MSD1JH3</td>\n",
       "      <td>es</td>\n",
       "      <td>11 Degrees de los Hombres Optum Poly Joggers, ...</td>\n",
       "    </tr>\n",
       "    <tr>\n",
       "      <th>6</th>\n",
       "      <td>11 Degrees</td>\n",
       "      <td>None</td>\n",
       "      <td>Negro</td>\n",
       "      <td>El Chándal ha sido diseñado con mangas largas ...</td>\n",
       "      <td>B07QKLGMHM</td>\n",
       "      <td>es</td>\n",
       "      <td>11 Degrees Core Zip Poly Top S Black</td>\n",
       "    </tr>\n",
       "    <tr>\n",
       "      <th>7</th>\n",
       "      <td>11 Degrees</td>\n",
       "      <td>None</td>\n",
       "      <td>None</td>\n",
       "      <td>None</td>\n",
       "      <td>B07S1VM815</td>\n",
       "      <td>es</td>\n",
       "      <td>11 Degrees Camiseta De Núcleo M Hot Red</td>\n",
       "    </tr>\n",
       "    <tr>\n",
       "      <th>8</th>\n",
       "      <td>11 Degrees</td>\n",
       "      <td>None</td>\n",
       "      <td>Black &amp; White</td>\n",
       "      <td>None</td>\n",
       "      <td>B07T1HCDXG</td>\n",
       "      <td>es</td>\n",
       "      <td>11 Degrees Trucker Cap - Black &amp; White</td>\n",
       "    </tr>\n",
       "    <tr>\n",
       "      <th>9</th>\n",
       "      <td>11 Degrees</td>\n",
       "      <td>11 Degrees Negro Chaqueta acolchada\\nA estrena...</td>\n",
       "      <td>Negro</td>\n",
       "      <td>La chaqueta Space Puffer de 11 Degrees viene c...</td>\n",
       "      <td>B07VCV1LSQ</td>\n",
       "      <td>es</td>\n",
       "      <td>11 Degrees Chaqueta Espacial S Black</td>\n",
       "    </tr>\n",
       "  </tbody>\n",
       "</table>\n",
       "</div>"
      ],
      "text/plain": [
       "  product_brand                               product_bullet_point  \\\n",
       "0    11 Degrees  11 Degrees Negro Playera con logo\\nA estrenar ...   \n",
       "1    11 Degrees                                               None   \n",
       "2    11 Degrees  11 Degrees Azul Core Pull Over Hoodie\\nA estre...   \n",
       "3    11 Degrees                                               None   \n",
       "4    11 Degrees                                               None   \n",
       "5    11 Degrees  11 Degrees Negro Optum Poly Joggers\\nA estrena...   \n",
       "6    11 Degrees                                               None   \n",
       "7    11 Degrees                                               None   \n",
       "8    11 Degrees                                               None   \n",
       "9    11 Degrees  11 Degrees Negro Chaqueta acolchada\\nA estrena...   \n",
       "\n",
       "   product_color                                product_description  \\\n",
       "0          Negro  Esta playera con el logo de la marca Carrier d...   \n",
       "1         Blanco                                               None   \n",
       "2           Azul  La sudadera con capucha Core Pull Over de 11 G...   \n",
       "3           None                                               None   \n",
       "4        Negro (                                               None   \n",
       "5          Negro  Los Optum Poly Joggers de 11 grados vienen con...   \n",
       "6          Negro  El Chándal ha sido diseñado con mangas largas ...   \n",
       "7           None                                               None   \n",
       "8  Black & White                                               None   \n",
       "9          Negro  La chaqueta Space Puffer de 11 Degrees viene c...   \n",
       "\n",
       "   product_id product_locale  \\\n",
       "0  B079VKKJN7             es   \n",
       "1  B079Y9VRKS             es   \n",
       "2  B07DP4LM9H             es   \n",
       "3  B07G37B9HP             es   \n",
       "4  B07LCTGDHY             es   \n",
       "5  B07MSD1JH3             es   \n",
       "6  B07QKLGMHM             es   \n",
       "7  B07S1VM815             es   \n",
       "8  B07T1HCDXG             es   \n",
       "9  B07VCV1LSQ             es   \n",
       "\n",
       "                                       product_title  \n",
       "0  11 Degrees de los Hombres Playera con Logo, Ne...  \n",
       "1          Camiseta Eleven Degrees Core TS White (M)  \n",
       "2  11 Degrees de los Hombres Core Pull Over Hoodi...  \n",
       "3          11 Degrees Poli Panel Track Pant XL Black  \n",
       "4  11 Degrees Gorra Trucker Negro OSFA (Talla úni...  \n",
       "5  11 Degrees de los Hombres Optum Poly Joggers, ...  \n",
       "6               11 Degrees Core Zip Poly Top S Black  \n",
       "7            11 Degrees Camiseta De Núcleo M Hot Red  \n",
       "8             11 Degrees Trucker Cap - Black & White  \n",
       "9               11 Degrees Chaqueta Espacial S Black  "
      ]
     },
     "execution_count": 14,
     "metadata": {},
     "output_type": "execute_result"
    }
   ],
   "source": [
    "import pandas as pd\n",
    "\n",
    "response = esclient.search(\n",
    "    index=INDEX\n",
    ")\n",
    "\n",
    "result_df = pd.DataFrame(d[\"_source\"] for d in response[\"hits\"][\"hits\"])\n",
    "result_df"
   ]
  },
  {
   "cell_type": "markdown",
   "source": [
    "## クエリを指定して検索\n"
   ],
   "metadata": {
    "collapsed": false
   }
  },
  {
   "cell_type": "code",
   "execution_count": null,
   "outputs": [],
   "source": [
    "query = {\n",
    "    \"match\": {\n",
    "        \"product_locale\": \"jp\"\n",
    "    }\n",
    "}\n",
    "\n",
    "response = esclient.search(\n",
    "    index=INDEX,\n",
    "    query=query\n",
    ")\n",
    "\n",
    "result_df = pd.DataFrame(d[\"_source\"] for d in response[\"hits\"][\"hits\"])\n",
    "result_df"
   ],
   "metadata": {
    "collapsed": false
   }
  }
 ],
 "metadata": {
  "kernelspec": {
   "display_name": "Python 3 (ipykernel)",
   "language": "python",
   "name": "python3"
  },
  "language_info": {
   "codemirror_mode": {
    "name": "ipython",
    "version": 3
   },
   "file_extension": ".py",
   "mimetype": "text/x-python",
   "name": "python",
   "nbconvert_exporter": "python",
   "pygments_lexer": "ipython3",
   "version": "3.10.10"
  }
 },
 "nbformat": 4,
 "nbformat_minor": 4
}
