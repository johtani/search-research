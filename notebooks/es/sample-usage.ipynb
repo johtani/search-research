{
 "cells": [
  {
   "cell_type": "markdown",
   "metadata": {
    "collapsed": false,
    "jupyter": {
     "outputs_hidden": false
    }
   },
   "source": [
    "# Elasticsearchを利用したサンプル検索\n",
    "\n",
    "Elasticsearchを利用した検索などを試すためのノートブックです。"
   ]
  },
  {
   "cell_type": "markdown",
   "metadata": {
    "collapsed": false,
    "jupyter": {
     "outputs_hidden": false
    }
   },
   "source": [
    "## 接続先の設定\n",
    "\n",
    "**ESHOST**に接続先を設定します。サンプルでは、ローカルネットワーク環境にあるElasticsearchに接続しています。\n",
    "接続先の各種設定については公式ドキュメントをご覧ください。\n",
    "https://www.elastic.co/guide/en/elasticsearch/client/python-api/current/connecting.html\n",
    "\n",
    "**INDEX**が接続先のインデックス名です。"
   ]
  },
  {
   "cell_type": "code",
   "execution_count": 13,
   "metadata": {
    "collapsed": false,
    "is_executing": true,
    "jupyter": {
     "outputs_hidden": false
    }
   },
   "outputs": [],
   "source": [
    "from elasticsearch import Elasticsearch\n",
    "import json\n",
    "\n",
    "ESHOST = \"http://es:9200\"\n",
    "INDEX = \"esci-products\"\n",
    "\n",
    "esclient = Elasticsearch(ESHOST)"
   ]
  },
  {
   "cell_type": "markdown",
   "metadata": {
    "collapsed": false,
    "jupyter": {
     "outputs_hidden": false
    }
   },
   "source": [
    "## スキーマの確認\n",
    "\n",
    "対象となるインデックスのスキーマを確認します。"
   ]
  },
  {
   "cell_type": "code",
   "execution_count": 14,
   "metadata": {
    "collapsed": false,
    "is_executing": true,
    "jupyter": {
     "outputs_hidden": false
    },
    "scrolled": true
   },
   "outputs": [
    {
     "name": "stdout",
     "output_type": "stream",
     "text": [
      "{\n",
      "  \"esci-products\": {\n",
      "    \"aliases\": {},\n",
      "    \"mappings\": {\n",
      "      \"properties\": {\n",
      "        \"Index\": {\n",
      "          \"type\": \"long\"\n",
      "        },\n",
      "        \"product_brand\": {\n",
      "          \"type\": \"keyword\"\n",
      "        },\n",
      "        \"product_bullet_point\": {\n",
      "          \"type\": \"keyword\",\n",
      "          \"ignore_above\": 256,\n",
      "          \"fields\": {\n",
      "            \"en\": {\n",
      "              \"type\": \"text\",\n",
      "              \"analyzer\": \"standard\"\n",
      "            },\n",
      "            \"ja\": {\n",
      "              \"type\": \"text\",\n",
      "              \"analyzer\": \"kuromoji\"\n",
      "            }\n",
      "          }\n",
      "        },\n",
      "        \"product_color\": {\n",
      "          \"type\": \"keyword\"\n",
      "        },\n",
      "        \"product_description\": {\n",
      "          \"type\": \"keyword\",\n",
      "          \"ignore_above\": 256,\n",
      "          \"fields\": {\n",
      "            \"en\": {\n",
      "              \"type\": \"text\",\n",
      "              \"analyzer\": \"standard\"\n",
      "            },\n",
      "            \"ja\": {\n",
      "              \"type\": \"text\",\n",
      "              \"analyzer\": \"kuromoji\"\n",
      "            }\n",
      "          }\n",
      "        },\n",
      "        \"product_id\": {\n",
      "          \"type\": \"keyword\"\n",
      "        },\n",
      "        \"product_locale\": {\n",
      "          \"type\": \"keyword\"\n",
      "        },\n",
      "        \"product_title\": {\n",
      "          \"type\": \"keyword\",\n",
      "          \"ignore_above\": 256,\n",
      "          \"fields\": {\n",
      "            \"en\": {\n",
      "              \"type\": \"text\",\n",
      "              \"analyzer\": \"standard\"\n",
      "            },\n",
      "            \"ja\": {\n",
      "              \"type\": \"text\",\n",
      "              \"analyzer\": \"kuromoji\"\n",
      "            }\n",
      "          }\n",
      "        },\n",
      "        \"products_dense_vector\": {\n",
      "          \"type\": \"dense_vector\",\n",
      "          \"dims\": 512,\n",
      "          \"index\": true,\n",
      "          \"similarity\": \"cosine\"\n",
      "        }\n",
      "      }\n",
      "    },\n",
      "    \"settings\": {\n",
      "      \"index\": {\n",
      "        \"routing\": {\n",
      "          \"allocation\": {\n",
      "            \"include\": {\n",
      "              \"_tier_preference\": \"data_content\"\n",
      "            }\n",
      "          }\n",
      "        },\n",
      "        \"refresh_interval\": \"-1\",\n",
      "        \"number_of_shards\": \"1\",\n",
      "        \"provided_name\": \"esci-products\",\n",
      "        \"creation_date\": \"1689834679420\",\n",
      "        \"number_of_replicas\": \"1\",\n",
      "        \"uuid\": \"J3VbjGC-R_mSpL2rKgs-PQ\",\n",
      "        \"version\": {\n",
      "          \"created\": \"8080299\"\n",
      "        }\n",
      "      }\n",
      "    }\n",
      "  }\n",
      "}\n"
     ]
    }
   ],
   "source": [
    "import json\n",
    "response = esclient.indices.get(index=INDEX, pretty=True)\n",
    "print(json.dumps(response.body, indent=2))"
   ]
  },
  {
   "cell_type": "markdown",
   "metadata": {},
   "source": [
    "## データの確認\n",
    "\n",
    "件数を確認する"
   ]
  },
  {
   "cell_type": "code",
   "execution_count": 17,
   "metadata": {},
   "outputs": [
    {
     "data": {
      "text/plain": [
       "ObjectApiResponse({'count': 0, '_shards': {'total': 1, 'successful': 1, 'skipped': 0, 'failed': 0}})"
      ]
     },
     "execution_count": 17,
     "metadata": {},
     "output_type": "execute_result"
    }
   ],
   "source": [
    "response = esclient.count(\n",
    "    index=INDEX\n",
    ")\n",
    "response"
   ]
  },
  {
   "cell_type": "markdown",
   "metadata": {},
   "source": [
    "\n",
    "検索してみる。"
   ]
  },
  {
   "cell_type": "code",
   "execution_count": 16,
   "metadata": {
    "collapsed": false,
    "jupyter": {
     "outputs_hidden": false
    }
   },
   "outputs": [
    {
     "data": {
      "text/html": [
       "<div>\n",
       "<style scoped>\n",
       "    .dataframe tbody tr th:only-of-type {\n",
       "        vertical-align: middle;\n",
       "    }\n",
       "\n",
       "    .dataframe tbody tr th {\n",
       "        vertical-align: top;\n",
       "    }\n",
       "\n",
       "    .dataframe thead th {\n",
       "        text-align: right;\n",
       "    }\n",
       "</style>\n",
       "<table border=\"1\" class=\"dataframe\">\n",
       "  <thead>\n",
       "    <tr style=\"text-align: right;\">\n",
       "      <th></th>\n",
       "    </tr>\n",
       "  </thead>\n",
       "  <tbody>\n",
       "  </tbody>\n",
       "</table>\n",
       "</div>"
      ],
      "text/plain": [
       "Empty DataFrame\n",
       "Columns: []\n",
       "Index: []"
      ]
     },
     "execution_count": 16,
     "metadata": {},
     "output_type": "execute_result"
    }
   ],
   "source": [
    "import pandas as pd\n",
    "\n",
    "response = esclient.search(\n",
    "    index=INDEX\n",
    ")\n",
    "\n",
    "result_df = pd.DataFrame(d[\"_source\"] for d in response[\"hits\"][\"hits\"])\n",
    "result_df"
   ]
  },
  {
   "cell_type": "markdown",
   "metadata": {
    "collapsed": false,
    "jupyter": {
     "outputs_hidden": false
    }
   },
   "source": [
    "## クエリを指定して検索\n"
   ]
  },
  {
   "cell_type": "code",
   "execution_count": 8,
   "metadata": {
    "collapsed": false,
    "jupyter": {
     "outputs_hidden": false
    }
   },
   "outputs": [
    {
     "data": {
      "text/html": [
       "<div>\n",
       "<style scoped>\n",
       "    .dataframe tbody tr th:only-of-type {\n",
       "        vertical-align: middle;\n",
       "    }\n",
       "\n",
       "    .dataframe tbody tr th {\n",
       "        vertical-align: top;\n",
       "    }\n",
       "\n",
       "    .dataframe thead th {\n",
       "        text-align: right;\n",
       "    }\n",
       "</style>\n",
       "<table border=\"1\" class=\"dataframe\">\n",
       "  <thead>\n",
       "    <tr style=\"text-align: right;\">\n",
       "      <th></th>\n",
       "    </tr>\n",
       "  </thead>\n",
       "  <tbody>\n",
       "  </tbody>\n",
       "</table>\n",
       "</div>"
      ],
      "text/plain": [
       "Empty DataFrame\n",
       "Columns: []\n",
       "Index: []"
      ]
     },
     "execution_count": 8,
     "metadata": {},
     "output_type": "execute_result"
    }
   ],
   "source": [
    "query = {\n",
    "    \"match\": {\n",
    "        \"product_color\": \"ブラック\"\n",
    "    }\n",
    "}\n",
    "\n",
    "response = esclient.search(\n",
    "    index=INDEX,\n",
    "    query=query\n",
    ")\n",
    "\n",
    "result_df = pd.DataFrame(d[\"_source\"] for d in response[\"hits\"][\"hits\"])\n",
    "result_df"
   ]
  },
  {
   "cell_type": "markdown",
   "metadata": {},
   "source": [
    "## ベクトル検索（knn検索）\n",
    "\n",
    "`text`の文字列をLLMのモデルを使って、ベクトルに変換し、knn検索を実行する。\n",
    "インデックスにはすでに同じLLMのモデルを使用してドキュメントごとにベクトルが付与されているものとする。\n"
   ]
  },
  {
   "cell_type": "code",
   "execution_count": 18,
   "metadata": {},
   "outputs": [
    {
     "name": "stderr",
     "output_type": "stream",
     "text": [
      "/workspace/search-research/.venv/lib/python3.11/site-packages/tqdm/auto.py:21: TqdmWarning: IProgress not found. Please update jupyter and ipywidgets. See https://ipywidgets.readthedocs.io/en/stable/user_install.html\n",
      "  from .autonotebook import tqdm as notebook_tqdm\n",
      "Downloading (…)lve/main/config.json: 100%|██████████| 4.24k/4.24k [00:00<00:00, 14.9MB/s]\n",
      "Downloading pytorch_model.bin: 100%|██████████| 787M/787M [00:24<00:00, 32.4MB/s] \n"
     ]
    },
    {
     "data": {
      "text/html": [
       "<div>\n",
       "<style scoped>\n",
       "    .dataframe tbody tr th:only-of-type {\n",
       "        vertical-align: middle;\n",
       "    }\n",
       "\n",
       "    .dataframe tbody tr th {\n",
       "        vertical-align: top;\n",
       "    }\n",
       "\n",
       "    .dataframe thead th {\n",
       "        text-align: right;\n",
       "    }\n",
       "</style>\n",
       "<table border=\"1\" class=\"dataframe\">\n",
       "  <thead>\n",
       "    <tr style=\"text-align: right;\">\n",
       "      <th></th>\n",
       "    </tr>\n",
       "  </thead>\n",
       "  <tbody>\n",
       "  </tbody>\n",
       "</table>\n",
       "</div>"
      ],
      "text/plain": [
       "Empty DataFrame\n",
       "Columns: []\n",
       "Index: []"
      ]
     },
     "execution_count": 18,
     "metadata": {},
     "output_type": "execute_result"
    }
   ],
   "source": [
    "import torch\n",
    "import japanese_clip as ja_clip\n",
    "\n",
    "text = \"黒のリュックカバー\"\n",
    "\n",
    "device = \"cuda\" if torch.cuda.is_available() else \"cpu\"\n",
    "print(f\"device is {device}\")\n",
    "model, preprocess = ja_clip.load(\"rinna/japanese-clip-vit-b-16\", cache_dir=\"/tmp/japanese_clip\", device=device)\n",
    "tokenizer = ja_clip.load_tokenizer()\n",
    "encodings = ja_clip.tokenize(\n",
    "    texts=text,\n",
    "    device=device,\n",
    "    tokenizer=tokenizer, # this is optional. if you don't pass, load tokenizer each time\n",
    ")\n",
    "\n",
    "with torch.no_grad():\n",
    "    embeddings = model.get_text_features(**encodings)[0].tolist()\n",
    "    \n",
    "\n",
    "knn_query = {\n",
    "    \"field\": \"products_dense_vector\",\n",
    "    \"query_vector\": embeddings,\n",
    "    \"k\": 10,\n",
    "    \"num_candidates\": 100\n",
    "}\n",
    "\n",
    "response = esclient.search(\n",
    "    index=INDEX,\n",
    "    knn=knn_query\n",
    ")\n",
    "\n",
    "result_df = pd.DataFrame(d[\"_source\"] for d in response[\"hits\"][\"hits\"])\n",
    "result_df"
   ]
  },
  {
   "cell_type": "code",
   "execution_count": null,
   "metadata": {},
   "outputs": [],
   "source": []
  }
 ],
 "metadata": {
  "kernelspec": {
   "display_name": "Python 3 (ipykernel)",
   "language": "python",
   "name": "python3"
  },
  "language_info": {
   "codemirror_mode": {
    "name": "ipython",
    "version": 3
   },
   "file_extension": ".py",
   "mimetype": "text/x-python",
   "name": "python",
   "nbconvert_exporter": "python",
   "pygments_lexer": "ipython3",
   "version": "3.11.4"
  }
 },
 "nbformat": 4,
 "nbformat_minor": 4
}
